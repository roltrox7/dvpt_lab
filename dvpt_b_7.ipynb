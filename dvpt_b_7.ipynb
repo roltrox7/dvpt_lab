{
 "cells": [
  {
   "cell_type": "code",
   "execution_count": 5,
   "id": "4c6adea3-ef62-43e5-b81b-15f100f9ae7f",
   "metadata": {},
   "outputs": [],
   "source": [
    "from pyspark.sql import SparkSession\n",
    "from pyspark.ml.feature import VectorAssembler, MinMaxScaler\n",
    "from pyspark.ml.regression import LinearRegression\n",
    "from pyspark.ml.evaluation import RegressionEvaluator\n",
    "\n",
    "# Initialize Spark Session\n",
    "spark = SparkSession.builder \\\n",
    "    .appName(\"House Price Prediction\") \\\n",
    "    .getOrCreate()"
   ]
  },
  {
   "cell_type": "code",
   "execution_count": 17,
   "id": "9296b27f-b48c-4ab4-8115-c57816a78630",
   "metadata": {},
   "outputs": [
    {
     "name": "stdout",
     "output_type": "stream",
     "text": [
      "root\n",
      " |-- id: long (nullable = true)\n",
      " |-- Date: integer (nullable = true)\n",
      " |-- number of bedrooms: integer (nullable = true)\n",
      " |-- number of bathrooms: double (nullable = true)\n",
      " |-- living area: integer (nullable = true)\n",
      " |-- lot area: integer (nullable = true)\n",
      " |-- number of floors: double (nullable = true)\n",
      " |-- waterfront present: integer (nullable = true)\n",
      " |-- number of views: integer (nullable = true)\n",
      " |-- condition of the house: integer (nullable = true)\n",
      " |-- grade of the house: integer (nullable = true)\n",
      " |-- Area of the house(excluding basement): integer (nullable = true)\n",
      " |-- Area of the basement: integer (nullable = true)\n",
      " |-- Built Year: integer (nullable = true)\n",
      " |-- Renovation Year: integer (nullable = true)\n",
      " |-- Postal Code: integer (nullable = true)\n",
      " |-- Lattitude: double (nullable = true)\n",
      " |-- Longitude: double (nullable = true)\n",
      " |-- living_area_renov: integer (nullable = true)\n",
      " |-- lot_area_renov: integer (nullable = true)\n",
      " |-- Number of schools nearby: integer (nullable = true)\n",
      " |-- Distance from the airport: integer (nullable = true)\n",
      " |-- Price: integer (nullable = true)\n",
      "\n"
     ]
    }
   ],
   "source": [
    "# Load the dataset\n",
    "file_path = \"/Users/sampreethshetty/Downloads/house_price.csv\"  # Replace with your dataset path\n",
    "df = spark.read.csv(file_path, header=True, inferSchema=True)\n",
    "\n",
    "# Display the dataset schema\n",
    "df.printSchema()\n"
   ]
  },
  {
   "cell_type": "code",
   "execution_count": 18,
   "id": "e2c1026f-cd83-437f-a70d-f12760421574",
   "metadata": {},
   "outputs": [
    {
     "name": "stdout",
     "output_type": "stream",
     "text": [
      "Dataset Preview:\n",
      "+----------+------------------+-------------------+-----------+--------+----------------+------------------+-----------+-------+\n",
      "|        id|number of bedrooms|number of bathrooms|living area|lot area|number of floors|waterfront present|postal code|  Price|\n",
      "+----------+------------------+-------------------+-----------+--------+----------------+------------------+-----------+-------+\n",
      "|6762810635|                 4|                2.5|       2920|    4000|             1.5|                 0|     122004|1400000|\n",
      "|6762810998|                 5|               2.75|       2910|    9480|             1.5|                 0|     122004|1200000|\n",
      "|6762812605|                 4|                2.5|       3310|   42998|             2.0|                 0|     122005| 838000|\n",
      "|6762812919|                 3|                2.0|       2710|    4500|             1.5|                 0|     122006| 805000|\n",
      "|6762813105|                 3|                2.5|       2600|    4750|             1.0|                 0|     122007| 790000|\n",
      "+----------+------------------+-------------------+-----------+--------+----------------+------------------+-----------+-------+\n",
      "only showing top 5 rows\n",
      "\n"
     ]
    }
   ],
   "source": [
    "# Step 1: Select Relevant Columns\n",
    "df = df.select(\"id\", \"number of bedrooms\", \"number of bathrooms\", \"living area\", \n",
    "               \"lot area\", \"number of floors\", \"waterfront present\", \"postal code\", \"Price\")\n",
    "\n",
    "# Display the dataset\n",
    "print(\"Dataset Preview:\")\n",
    "df.show(5)\n"
   ]
  },
  {
   "cell_type": "code",
   "execution_count": 9,
   "id": "bc9131cf-4012-41e5-989b-5e74071ccd4c",
   "metadata": {},
   "outputs": [],
   "source": [
    "# Step 2: Data Preprocessing\n",
    "# Handle missing values (fill with mean for numerical columns)\n",
    "numerical_cols = [\"number of bedrooms\", \"number of bathrooms\", \"living area\", \n",
    "                  \"lot area\", \"number of floors\", \"Price\"]\n",
    "for col_name in numerical_cols:\n",
    "    mean_value = df.select(col_name).na.drop().groupBy().avg(col_name).first()[0]\n",
    "    df = df.na.fill({col_name: mean_value})\n",
    "\n",
    "# Normalize numerical features\n",
    "assembler = VectorAssembler(inputCols=[\"number of bedrooms\", \"number of bathrooms\", \n",
    "                                        \"living area\", \"lot area\", \n",
    "                                        \"number of floors\", \"waterfront present\"], \n",
    "                             outputCol=\"FeaturesBeforeScaling\")\n",
    "df = assembler.transform(df)\n",
    "\n",
    "scaler = MinMaxScaler(inputCol=\"FeaturesBeforeScaling\", outputCol=\"features\")\n",
    "df = scaler.fit(df).transform(df)\n",
    "\n",
    "# Select only features and target column\n",
    "df = df.select(\"features\", \"Price\")"
   ]
  },
  {
   "cell_type": "code",
   "execution_count": null,
   "id": "3cd79f31-5ef5-4ad7-87d4-5c6a9f380e27",
   "metadata": {},
   "outputs": [],
   "source": [
    "# Step 1: Data Preprocessing\n",
    "# Handle missing values (fill with mean for numerical columns)\n",
    "numerical_cols = [\"Size\", \"Bedrooms\", \"Bathrooms\", \"Price\"]\n",
    "for col_name in numerical_cols:\n",
    "    mean_value = df.select(col_name).na.drop().groupBy().avg(col_name).first()[0]\n",
    "    df = df.na.fill({col_name: mean_value})\n",
    "\n",
    "# Encode categorical variables (Location)\n",
    "indexer = StringIndexer(inputCol=\"Location\", outputCol=\"LocationIndex\")\n",
    "df = indexer.fit(df).transform(df)\n",
    "\n",
    "# Normalize numerical features (Size, Bedrooms, Bathrooms)\n",
    "assembler = VectorAssembler(inputCols=[\"Size\", \"Bedrooms\", \"Bathrooms\"], outputCol=\"NumericalFeatures\")\n",
    "df = assembler.transform(df)\n",
    "\n",
    "scaler = MinMaxScaler(inputCol=\"NumericalFeatures\", outputCol=\"ScaledFeatures\")\n",
    "df = scaler.fit(df).transform(df)\n",
    "\n",
    "# Combine all features into a single vector\n",
    "final_assembler = VectorAssembler(inputCols=[\"ScaledFeatures\", \"LocationIndex\"], outputCol=\"features\")\n",
    "df = final_assembler.transform(df)\n",
    "\n",
    "# Select relevant columns for modeling\n",
    "df = df.select(\"features\", \"Price\")\n"
   ]
  },
  {
   "cell_type": "code",
   "execution_count": null,
   "id": "d98fe33c-9c23-4a70-92ce-b6c2b0d72c10",
   "metadata": {},
   "outputs": [],
   "source": [
    "# Step 2: Split the data into training and testing sets\n",
    "train_data, test_data = df.randomSplit([0.8, 0.2], seed=42)\n",
    "\n",
    "# Step 3: Train a Linear Regression Model\n",
    "lr = LinearRegression(featuresCol=\"features\", labelCol=\"Price\", maxIter=100, regParam=0.1, elasticNetParam=0.8)\n",
    "lr_model = lr.fit(train_data)\n",
    "\n"
   ]
  },
  {
   "cell_type": "code",
   "execution_count": null,
   "id": "78dcdf8c-a0c4-4746-90ab-c684a1fc12b1",
   "metadata": {},
   "outputs": [],
   "source": [
    "# Step 4: Evaluate the model on test data\n",
    "predictions = lr_model.transform(test_data)\n",
    "\n",
    "evaluator = RegressionEvaluator(labelCol=\"Price\", predictionCol=\"prediction\", metricName=\"rmse\")\n",
    "rmse = evaluator.evaluate(predictions)\n",
    "\n",
    "print(f\"Root Mean Square Error (RMSE) on Test Data: {rmse:.2f}\")\n",
    "\n"
   ]
  },
  {
   "cell_type": "code",
   "execution_count": null,
   "id": "5acfa2bf-6c4c-4624-a873-4ebc18c8f263",
   "metadata": {},
   "outputs": [],
   "source": [
    "# Step 5: Display Feature Importances\n",
    "print(\"Coefficients of Features (Feature Importance):\")\n",
    "for i, coeff in enumerate(lr_model.coefficients):\n",
    "    print(f\"Feature {i + 1}: {coeff:.4f}\")\n"
   ]
  },
  {
   "cell_type": "code",
   "execution_count": null,
   "id": "cd1886a5-3432-4e63-98c4-5b1ce4acb872",
   "metadata": {},
   "outputs": [],
   "source": [
    "# Stop Spark Session\n",
    "spark.stop()"
   ]
  }
 ],
 "metadata": {
  "kernelspec": {
   "display_name": "Python 3 (ipykernel)",
   "language": "python",
   "name": "python3"
  },
  "language_info": {
   "codemirror_mode": {
    "name": "ipython",
    "version": 3
   },
   "file_extension": ".py",
   "mimetype": "text/x-python",
   "name": "python",
   "nbconvert_exporter": "python",
   "pygments_lexer": "ipython3",
   "version": "3.12.2"
  }
 },
 "nbformat": 4,
 "nbformat_minor": 5
}
