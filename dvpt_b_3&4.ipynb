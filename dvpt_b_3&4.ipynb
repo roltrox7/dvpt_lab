{
 "cells": [
  {
   "cell_type": "code",
   "execution_count": 1,
   "id": "a977a818-55cd-4b40-8e39-b6063bbfc632",
   "metadata": {},
   "outputs": [
    {
     "name": "stderr",
     "output_type": "stream",
     "text": [
      "Setting default log level to \"WARN\".\n",
      "To adjust logging level use sc.setLogLevel(newLevel). For SparkR, use setLogLevel(newLevel).\n",
      "24/12/17 12:06:55 WARN NativeCodeLoader: Unable to load native-hadoop library for your platform... using builtin-java classes where applicable\n"
     ]
    }
   ],
   "source": [
    "from pyspark.sql import SparkSession\n",
    "spark = SparkSession.builder.appName(\"Airline\").getOrCreate()"
   ]
  },
  {
   "cell_type": "code",
   "execution_count": 2,
   "id": "d4dca001-d9ed-45bf-b7a9-92610498c78e",
   "metadata": {},
   "outputs": [
    {
     "name": "stdout",
     "output_type": "stream",
     "text": [
      "Initial Dataset:\n",
      "+---+-------+------+-----------+---------+---------+----+------+-----+\n",
      "| id|Airline|Flight|AirportFrom|AirportTo|DayOfWeek|Time|Length|Delay|\n",
      "+---+-------+------+-----------+---------+---------+----+------+-----+\n",
      "|  1|     CO|   269|        SFO|      IAH|        3|  15|   205|    1|\n",
      "|  2|     US|  1558|        PHX|      CLT|        3|  15|   222|    1|\n",
      "|  3|     AA|  2400|        LAX|      DFW|        3|  20|   165|    1|\n",
      "|  4|     AA|  2466|        SFO|      DFW|        3|  20|   195|    1|\n",
      "|  5|     AS|   108|        ANC|      SEA|        3|  30|   202|    0|\n",
      "+---+-------+------+-----------+---------+---------+----+------+-----+\n",
      "only showing top 5 rows\n",
      "\n"
     ]
    }
   ],
   "source": [
    "from pyspark.sql import SparkSession\n",
    "from pyspark.sql.functions import col, when, mean, corr\n",
    "\n",
    "\n",
    "# Load the CSV file into a DataFrame\n",
    "file_path = \"/Users/sampreethshetty/Downloads/Airlines.csv\"  # Replace with your file path\n",
    "df = spark.read.csv(file_path, header=True, inferSchema=True)\n",
    "\n",
    "# Display the first few rows of the dataset\n",
    "print(\"Initial Dataset:\")\n",
    "df.show(5)"
   ]
  },
  {
   "cell_type": "code",
   "execution_count": 3,
   "id": "bdfca122-2bc4-4de2-b4cc-95d27a49557d",
   "metadata": {},
   "outputs": [
    {
     "name": "stdout",
     "output_type": "stream",
     "text": [
      "Flights with Delay:\n",
      "+---+-------+------+-----------+---------+---------+----+------+-----+\n",
      "| id|Airline|Flight|AirportFrom|AirportTo|DayOfWeek|Time|Length|Delay|\n",
      "+---+-------+------+-----------+---------+---------+----+------+-----+\n",
      "|  1|     CO|   269|        SFO|      IAH|        3|  15|   205|    1|\n",
      "|  2|     US|  1558|        PHX|      CLT|        3|  15|   222|    1|\n",
      "|  3|     AA|  2400|        LAX|      DFW|        3|  20|   165|    1|\n",
      "|  4|     AA|  2466|        SFO|      DFW|        3|  20|   195|    1|\n",
      "|  6|     CO|  1094|        LAX|      IAH|        3|  30|   181|    1|\n",
      "+---+-------+------+-----------+---------+---------+----+------+-----+\n",
      "only showing top 5 rows\n",
      "\n"
     ]
    }
   ],
   "source": [
    "# Filter flights that were delayed (Delay == 1)\n",
    "delayed_flights_df = df.filter(col(\"Delay\") == 1)\n",
    "\n",
    "print(\"Flights with Delay:\")\n",
    "delayed_flights_df.show(5)"
   ]
  },
  {
   "cell_type": "code",
   "execution_count": 4,
   "id": "cf5bb29b-20ee-470f-84c2-23eeb33cf84f",
   "metadata": {},
   "outputs": [],
   "source": [
    "# Calculate the average flight length for delayed vs. non-delayed flights\n",
    "avg_length_delayed = df.filter(col(\"Delay\") == 1).agg(mean(\"Length\").alias(\"Avg_Length_Delayed\"))\n",
    "avg_length_non_delayed = df.filter(col(\"Delay\") == 0).agg(mean(\"Length\").alias(\"Avg_Length_NonDelayed\"))\n"
   ]
  },
  {
   "cell_type": "code",
   "execution_count": 5,
   "id": "798ce5c2-e852-4462-a310-259c74ebf9f5",
   "metadata": {},
   "outputs": [
    {
     "name": "stdout",
     "output_type": "stream",
     "text": [
      "Average Flight Length for Delayed Flights:\n",
      "+------------------+\n",
      "|Avg_Length_Delayed|\n",
      "+------------------+\n",
      "| 135.3696974994173|\n",
      "+------------------+\n",
      "\n"
     ]
    }
   ],
   "source": [
    "# Display average flight lengths\n",
    "print(\"Average Flight Length for Delayed Flights:\")\n",
    "avg_length_delayed.show()"
   ]
  },
  {
   "cell_type": "code",
   "execution_count": 6,
   "id": "2370cf35-f87b-4151-9dc6-5c20c36a58c2",
   "metadata": {},
   "outputs": [
    {
     "name": "stdout",
     "output_type": "stream",
     "text": [
      "Average Flight Length for Non-Delayed Flights:\n",
      "+---------------------+\n",
      "|Avg_Length_NonDelayed|\n",
      "+---------------------+\n",
      "|    129.6575944690909|\n",
      "+---------------------+\n",
      "\n"
     ]
    }
   ],
   "source": [
    "print(\"Average Flight Length for Non-Delayed Flights:\")\n",
    "avg_length_non_delayed.show()"
   ]
  },
  {
   "cell_type": "code",
   "execution_count": 7,
   "id": "b57d4eda-500a-47e1-a8db-c7e3946322c7",
   "metadata": {},
   "outputs": [
    {
     "name": "stdout",
     "output_type": "stream",
     "text": [
      "Correlation between Flight Length and Delay: 0.040489471608066915\n"
     ]
    }
   ],
   "source": [
    "# Analyze correlation between Length and Delay\n",
    "# Since Delay is binary, we can treat it as a numerical variable for correlation\n",
    "correlation = df.stat.corr(\"Length\", \"Delay\")\n",
    "\n",
    "print(f\"Correlation between Flight Length and Delay: {correlation}\")\n",
    "\n"
   ]
  },
  {
   "cell_type": "code",
   "execution_count": 12,
   "id": "893d9765-2f17-42ab-89eb-e40505ac981d",
   "metadata": {},
   "outputs": [
    {
     "name": "stdout",
     "output_type": "stream",
     "text": [
      "Average Delay by Airline:\n",
      "+-------+-------------------+\n",
      "|Airline|          Avg_Delay|\n",
      "+-------+-------------------+\n",
      "|     WN| 0.6977586958138942|\n",
      "|     CO| 0.5661994507055592|\n",
      "|     B6|0.46703842756183744|\n",
      "|     OO| 0.4528992716997652|\n",
      "|     DL|  0.450475877912701|\n",
      "|     F9|0.44903965303593557|\n",
      "|     EV| 0.4022084837222599|\n",
      "|     9E|0.39766025331141835|\n",
      "|     AA|0.38847029963203084|\n",
      "|     XE|0.37894364839683864|\n",
      "|     MQ|0.34809452260620133|\n",
      "|     AS| 0.3392903844477378|\n",
      "|     US|0.33597101449275363|\n",
      "|     UA|0.32390745501285345|\n",
      "|     HA| 0.3201864467551094|\n",
      "|     FL|0.30129159264416383|\n",
      "|     OH| 0.2772763262074426|\n",
      "|     YV| 0.2429143897996357|\n",
      "+-------+-------------------+\n",
      "\n"
     ]
    }
   ],
   "source": [
    "from pyspark.sql.functions import avg, desc, concat_ws\n",
    "\n",
    "# Task 1: Group by airline carrier and compute average delay\n",
    "avg_delay_by_airline = df.groupBy(\"Airline\") \\\n",
    "    .agg(avg(\"Delay\").alias(\"Avg_Delay\")) \\\n",
    "    .orderBy(desc(\"Avg_Delay\"))\n",
    "\n",
    "print(\"Average Delay by Airline:\")\n",
    "avg_delay_by_airline.show()\n"
   ]
  },
  {
   "cell_type": "code",
   "execution_count": 13,
   "id": "4dce1e73-d972-4288-b515-ea6412d08c93",
   "metadata": {},
   "outputs": [
    {
     "name": "stdout",
     "output_type": "stream",
     "text": [
      "Top 5 Routes with Highest Average Delay:\n",
      "+--------+---------+\n",
      "|   Route|Avg_Delay|\n",
      "+--------+---------+\n",
      "|PIT->CRW|      1.0|\n",
      "|STL->SAN|      1.0|\n",
      "|LAS->BUF|      1.0|\n",
      "|MSP->PVD|      1.0|\n",
      "|STL->RSW|      1.0|\n",
      "+--------+---------+\n",
      "only showing top 5 rows\n",
      "\n"
     ]
    }
   ],
   "source": [
    "# Task 2: Determine the top 5 routes with the highest average delay\n",
    "# Combine 'AirportFrom' and 'AirportTo' to create a 'Route' column\n",
    "df_with_route = df.withColumn(\"Route\", concat_ws(\"->\", col(\"AirportFrom\"), col(\"AirportTo\")))\n",
    "\n",
    "# Group by Route and compute average delay\n",
    "avg_delay_by_route = df_with_route.groupBy(\"Route\") \\\n",
    "    .agg(avg(\"Delay\").alias(\"Avg_Delay\")) \\\n",
    "    .orderBy(desc(\"Avg_Delay\"))\n",
    "\n",
    "# Show the top 5 routes with the highest average delay\n",
    "print(\"Top 5 Routes with Highest Average Delay:\")\n",
    "avg_delay_by_route.show(5)\n"
   ]
  },
  {
   "cell_type": "code",
   "execution_count": 14,
   "id": "016ce219-58cb-4f85-b0d5-c9703174315f",
   "metadata": {},
   "outputs": [],
   "source": [
    "spark.stop()"
   ]
  },
  {
   "cell_type": "code",
   "execution_count": null,
   "id": "c89cea1b-825a-499d-957c-133bedf4d5f9",
   "metadata": {},
   "outputs": [],
   "source": []
  }
 ],
 "metadata": {
  "kernelspec": {
   "display_name": "Python 3 (ipykernel)",
   "language": "python",
   "name": "python3"
  },
  "language_info": {
   "codemirror_mode": {
    "name": "ipython",
    "version": 3
   },
   "file_extension": ".py",
   "mimetype": "text/x-python",
   "name": "python",
   "nbconvert_exporter": "python",
   "pygments_lexer": "ipython3",
   "version": "3.12.2"
  }
 },
 "nbformat": 4,
 "nbformat_minor": 5
}
