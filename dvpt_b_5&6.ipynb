{
 "cells": [
  {
   "cell_type": "code",
   "execution_count": 23,
   "id": "6446a478-6ec2-4345-bf5d-198234cd733b",
   "metadata": {},
   "outputs": [],
   "source": [
    "from pyspark.sql import SparkSession\n",
    "from pyspark.sql.functions import col, count, avg, explode, split, desc"
   ]
  },
  {
   "cell_type": "code",
   "execution_count": 11,
   "id": "9a5e7caf-9560-4d27-b7fe-f788d7630401",
   "metadata": {},
   "outputs": [],
   "source": [
    "# Initialize Spark Session\n",
    "spark = SparkSession.builder \\\n",
    "    .appName(\"Movie Ratings Analysis\") \\\n",
    "    .getOrCreate()"
   ]
  },
  {
   "cell_type": "code",
   "execution_count": 12,
   "id": "58485539-6264-4f19-a722-0fb2f3978811",
   "metadata": {},
   "outputs": [],
   "source": [
    "# Load the Movies CSV file\n",
    "movies_file_path = \"/Users/sampreethshetty/Downloads/ml-latest-small/movies.csv\"  # Replace with your movies file path\n",
    "movies_df = spark.read.csv(movies_file_path, header=True, inferSchema=True)\n",
    "\n",
    "# Load the Ratings CSV file\n",
    "ratings_file_path = \"/Users/sampreethshetty/Downloads/ml-latest-small/ratings.csv\"  # Replace with your ratings file path\n",
    "ratings_df = spark.read.csv(ratings_file_path, header=True, inferSchema=True)\n",
    "\n",
    "# Create Temporary Views\n",
    "movies_df.createOrReplaceTempView(\"Movies\")\n",
    "ratings_df.createOrReplaceTempView(\"Ratings\")\n"
   ]
  },
  {
   "cell_type": "code",
   "execution_count": 13,
   "id": "cb549114-e89a-48a2-88de-fb723af6397f",
   "metadata": {},
   "outputs": [],
   "source": [
    "# SQL Query to Find Top 10 Highest-Rated Movies with at Least 10 Ratings\n",
    "query = \"\"\"\n",
    "    SELECT \n",
    "        m.MovieID,\n",
    "        m.Title,\n",
    "        ROUND(AVG(r.Rating), 2) AS Avg_Rating,\n",
    "        COUNT(r.Rating) AS Total_Ratings\n",
    "    FROM \n",
    "        Movies m\n",
    "    JOIN \n",
    "        Ratings r\n",
    "    ON \n",
    "        m.MovieID = r.MovieID\n",
    "    GROUP BY \n",
    "        m.MovieID, m.Title\n",
    "    HAVING \n",
    "        COUNT(r.Rating) >= 10\n",
    "    ORDER BY \n",
    "        Avg_Rating DESC\n",
    "    LIMIT 10\n",
    "\"\"\""
   ]
  },
  {
   "cell_type": "code",
   "execution_count": 14,
   "id": "721ed3e0-b3c4-4625-9196-15f710a0180f",
   "metadata": {},
   "outputs": [
    {
     "name": "stdout",
     "output_type": "stream",
     "text": [
      "Top 10 Highest-Rated Movies with at Least 10 Ratings:\n",
      "+-------+--------------------+----------+-------------+\n",
      "|MovieID|               Title|Avg_Rating|Total_Ratings|\n",
      "+-------+--------------------+----------+-------------+\n",
      "|   1041|Secrets & Lies (1...|      4.59|           11|\n",
      "|   3451|Guess Who's Comin...|      4.55|           11|\n",
      "|   1178|Paths of Glory (1...|      4.54|           12|\n",
      "|   1104|Streetcar Named D...|      4.48|           20|\n",
      "|   2360|Celebration, The ...|      4.46|           12|\n",
      "|    318|Shawshank Redempt...|      4.43|          317|\n",
      "|   1217|          Ran (1985)|      4.43|           15|\n",
      "|    951|His Girl Friday (...|      4.39|           14|\n",
      "|   1927|All Quiet on the ...|      4.35|           10|\n",
      "|   3468| Hustler, The (1961)|      4.33|           18|\n",
      "+-------+--------------------+----------+-------------+\n",
      "\n"
     ]
    }
   ],
   "source": [
    "top_rated_movies = spark.sql(query)\n",
    "\n",
    "# Show the result\n",
    "print(\"Top 10 Highest-Rated Movies with at Least 10 Ratings:\")\n",
    "top_rated_movies.show()\n"
   ]
  },
  {
   "cell_type": "code",
   "execution_count": 15,
   "id": "0c7bfdfb-478f-4e45-bc32-27280cef053a",
   "metadata": {},
   "outputs": [
    {
     "name": "stdout",
     "output_type": "stream",
     "text": [
      "Movies Data:\n",
      "+-------+--------------------+--------------------+\n",
      "|movieId|               title|              genres|\n",
      "+-------+--------------------+--------------------+\n",
      "|      1|    Toy Story (1995)|Adventure|Animati...|\n",
      "|      2|      Jumanji (1995)|Adventure|Childre...|\n",
      "|      3|Grumpier Old Men ...|      Comedy|Romance|\n",
      "|      4|Waiting to Exhale...|Comedy|Drama|Romance|\n",
      "|      5|Father of the Bri...|              Comedy|\n",
      "+-------+--------------------+--------------------+\n",
      "only showing top 5 rows\n",
      "\n"
     ]
    }
   ],
   "source": [
    "# Show loaded data\n",
    "print(\"Movies Data:\")\n",
    "movies_df.show(5)"
   ]
  },
  {
   "cell_type": "code",
   "execution_count": 16,
   "id": "99551f9b-97ee-4d3d-bd56-d82d295d02bb",
   "metadata": {},
   "outputs": [
    {
     "name": "stdout",
     "output_type": "stream",
     "text": [
      "Ratings Data:\n",
      "+------+-------+------+---------+\n",
      "|userId|movieId|rating|timestamp|\n",
      "+------+-------+------+---------+\n",
      "|     1|      1|   4.0|964982703|\n",
      "|     1|      3|   4.0|964981247|\n",
      "|     1|      6|   4.0|964982224|\n",
      "|     1|     47|   5.0|964983815|\n",
      "|     1|     50|   5.0|964982931|\n",
      "+------+-------+------+---------+\n",
      "only showing top 5 rows\n",
      "\n"
     ]
    }
   ],
   "source": [
    "print(\"Ratings Data:\")\n",
    "ratings_df.show(5)"
   ]
  },
  {
   "cell_type": "code",
   "execution_count": 24,
   "id": "51a674c1-ba01-4d8c-9163-bf2f40199315",
   "metadata": {},
   "outputs": [
    {
     "name": "stdout",
     "output_type": "stream",
     "text": [
      "Most Active Users (Users who rated the most movies):\n",
      "+------+-------------+\n",
      "|UserID|Total_Ratings|\n",
      "+------+-------------+\n",
      "|   414|         2698|\n",
      "|   599|         2478|\n",
      "|   474|         2108|\n",
      "|   448|         1864|\n",
      "|   274|         1346|\n",
      "+------+-------------+\n",
      "only showing top 5 rows\n",
      "\n"
     ]
    }
   ],
   "source": [
    "# 1. Find the most active users (users who have rated the most movies)\n",
    "most_active_users = ratings_df.groupBy(\"UserID\") \\\n",
    "    .agg(count(\"Rating\").alias(\"Total_Ratings\")) \\\n",
    "    .orderBy(desc(\"Total_Ratings\"))\n",
    "\n",
    "print(\"Most Active Users (Users who rated the most movies):\")\n",
    "most_active_users.show(5)"
   ]
  },
  {
   "cell_type": "code",
   "execution_count": 20,
   "id": "a38a67b4-8f27-41be-8204-6f5e8b4a03bd",
   "metadata": {},
   "outputs": [
    {
     "name": "stdout",
     "output_type": "stream",
     "text": [
      "Movies sorted alphabetically:\n",
      "+---------------------------------------+\n",
      "|Title                                  |\n",
      "+---------------------------------------+\n",
      "|\"11'09\"\"01 - September 11 (2002)\"      |\n",
      "|'71 (2014)                             |\n",
      "|'Hellboy': The Seeds of Creation (2004)|\n",
      "|'Round Midnight (1986)                 |\n",
      "|'Salem's Lot (2004)                    |\n",
      "|'Til There Was You (1997)              |\n",
      "|'Tis the Season for Love (2015)        |\n",
      "|'burbs, The (1989)                     |\n",
      "|'night Mother (1986)                   |\n",
      "|(500) Days of Summer (2009)            |\n",
      "+---------------------------------------+\n",
      "only showing top 10 rows\n",
      "\n"
     ]
    }
   ],
   "source": [
    "# 2. Sort the movies by name in alphabetical order\n",
    "sorted_movies = movies_df.orderBy(\"Title\")\n",
    "\n",
    "print(\"Movies sorted alphabetically:\")\n",
    "sorted_movies.select(\"Title\").show(10, truncate=False)"
   ]
  },
  {
   "cell_type": "code",
   "execution_count": 21,
   "id": "3a389bbf-05ac-43dd-8e1b-15fd2e772338",
   "metadata": {},
   "outputs": [
    {
     "name": "stdout",
     "output_type": "stream",
     "text": [
      "Average Rating per Genre:\n",
      "+------------------+------------------+\n",
      "|             Genre|        Avg_Rating|\n",
      "+------------------+------------------+\n",
      "|         Film-Noir| 3.920114942528736|\n",
      "|               War|   3.8082938876312|\n",
      "|       Documentary| 3.797785069729286|\n",
      "|             Crime| 3.658293867274144|\n",
      "|             Drama|3.6561844113718758|\n",
      "|           Mystery| 3.632460255407871|\n",
      "|         Animation|3.6299370349170004|\n",
      "|              IMAX| 3.618335343787696|\n",
      "|           Western| 3.583937823834197|\n",
      "|           Musical|3.5636781053649105|\n",
      "|         Adventure|3.5086089151939075|\n",
      "|           Romance|3.5065107040388437|\n",
      "|          Thriller|3.4937055799183425|\n",
      "|           Fantasy|3.4910005070136894|\n",
      "|(no genres listed)|3.4893617021276597|\n",
      "|            Sci-Fi| 3.455721162210752|\n",
      "|            Action| 3.447984331646809|\n",
      "|          Children| 3.412956125108601|\n",
      "|            Comedy|3.3847207640898267|\n",
      "|            Horror| 3.258195034974626|\n",
      "+------------------+------------------+\n",
      "\n"
     ]
    }
   ],
   "source": [
    "# 3. Calculate the average rating per genre\n",
    "# Assume the \"Genres\" column in the movies_df contains genres separated by \"|\"\n",
    "movies_with_genres = movies_df.withColumn(\"Genre\", explode(split(col(\"Genres\"), \"\\\\|\")))\n",
    "\n",
    "# Join movies with ratings on MovieID\n",
    "movies_ratings_joined = movies_with_genres.join(ratings_df, on=\"MovieID\")\n",
    "\n",
    "# Calculate average rating per genre\n",
    "avg_rating_per_genre = movies_ratings_joined.groupBy(\"Genre\") \\\n",
    "    .agg(avg(\"Rating\").alias(\"Avg_Rating\")) \\\n",
    "    .orderBy(desc(\"Avg_Rating\"))\n",
    "\n",
    "print(\"Average Rating per Genre:\")\n",
    "avg_rating_per_genre.show()"
   ]
  },
  {
   "cell_type": "code",
   "execution_count": 25,
   "id": "98615f09-232f-4388-91eb-ed7f5d596d2f",
   "metadata": {},
   "outputs": [
    {
     "name": "stdout",
     "output_type": "stream",
     "text": [
      "+-------+----------------+--------------------+---------+\n",
      "|movieId|           title|              genres|    Genre|\n",
      "+-------+----------------+--------------------+---------+\n",
      "|      1|Toy Story (1995)|Adventure|Animati...|Adventure|\n",
      "|      1|Toy Story (1995)|Adventure|Animati...|Animation|\n",
      "|      1|Toy Story (1995)|Adventure|Animati...| Children|\n",
      "|      1|Toy Story (1995)|Adventure|Animati...|   Comedy|\n",
      "|      1|Toy Story (1995)|Adventure|Animati...|  Fantasy|\n",
      "+-------+----------------+--------------------+---------+\n",
      "only showing top 5 rows\n",
      "\n"
     ]
    }
   ],
   "source": [
    "movies_with_genres.show(5)"
   ]
  },
  {
   "cell_type": "code",
   "execution_count": 7,
   "id": "c5790640-0e73-4f7b-a763-20d2f4b9025e",
   "metadata": {},
   "outputs": [],
   "source": [
    "# Stop Spark Session\n",
    "spark.stop()"
   ]
  },
  {
   "cell_type": "code",
   "execution_count": null,
   "id": "1897ed6a-67b6-4dbf-8425-246f74660405",
   "metadata": {},
   "outputs": [],
   "source": []
  }
 ],
 "metadata": {
  "kernelspec": {
   "display_name": "Python 3 (ipykernel)",
   "language": "python",
   "name": "python3"
  },
  "language_info": {
   "codemirror_mode": {
    "name": "ipython",
    "version": 3
   },
   "file_extension": ".py",
   "mimetype": "text/x-python",
   "name": "python",
   "nbconvert_exporter": "python",
   "pygments_lexer": "ipython3",
   "version": "3.12.2"
  }
 },
 "nbformat": 4,
 "nbformat_minor": 5
}
